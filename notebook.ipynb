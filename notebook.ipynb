{
 "cells": [
  {
   "cell_type": "markdown",
   "id": "8e7b5164",
   "metadata": {},
   "source": [
    "Here is a step-by-step Markdown explanation for your notebook, describing each part and its purpose:\n",
    "\n",
    "---\n",
    "\n",
    "# Conversational RAG with LangChain, FAISS, and OpenAI: Step-by-Step Explanation\n",
    "\n",
    "## 1. **Install Required Packages**\n",
    "\n"
   ]
  },
  {
   "cell_type": "code",
   "execution_count": null,
   "id": "43feb5ae",
   "metadata": {},
   "outputs": [],
   "source": [
    "! pip install langchain faiss-cpu sentence-transformers openai tiktoken rouge-score nltk python-dotenv langchain-community langchain_openai rouge nltk"
   ]
  },
  {
   "cell_type": "markdown",
   "id": "8c583891",
   "metadata": {},
   "source": [
    "*Installs all necessary libraries for document loading, embeddings, vector search, LLMs, and environment management.*\n",
    "\n",
    "---\n",
    "\n",
    "## 2. **Load Environment Variables**\n",
    "\n"
   ]
  },
  {
   "cell_type": "code",
   "execution_count": 18,
   "id": "02331165",
   "metadata": {},
   "outputs": [
    {
     "data": {
      "text/plain": [
       "True"
      ]
     },
     "execution_count": 18,
     "metadata": {},
     "output_type": "execute_result"
    }
   ],
   "source": [
    "from dotenv import load_dotenv\n",
    "load_dotenv()"
   ]
  },
  {
   "cell_type": "markdown",
   "id": "72938420",
   "metadata": {},
   "source": [
    "*Loads API keys and other secrets from a `.env` file, so you don’t hardcode them in your notebook.*\n",
    "\n",
    "---\n",
    "\n",
    "## 3. **Load and Preprocess Documents**\n",
    "\n"
   ]
  },
  {
   "cell_type": "code",
   "execution_count": 19,
   "id": "a66e1adc",
   "metadata": {},
   "outputs": [],
   "source": [
    "from pathlib import Path\n",
    "from langchain.schema import Document\n",
    "from langchain.embeddings import SentenceTransformerEmbeddings\n",
    "from langchain.vectorstores import FAISS\n",
    "import re\n",
    "\n",
    "def load_documents_from_folder(folder_path):\n",
    "    \"\"\"Load each .txt file in the folder as a separate Document.\"\"\"\n",
    "    txt_files = Path(folder_path).glob(\"*.txt\")\n",
    "    documents = []\n",
    "    for file in txt_files:\n",
    "        text = file.read_text(encoding=\"utf-8\")\n",
    "        clean_text = re.sub(r'\\s+', ' ', text.strip())  # Clean and normalize\n",
    "        doc = Document(page_content=clean_text, metadata={\"source\": file.name})\n",
    "        documents.append(doc)\n",
    "    return documents\n",
    "\n",
    "# Load documents from folder\n",
    "folder_path = \"ancient_greece_data\"\n",
    "documents = load_documents_from_folder(folder_path)"
   ]
  },
  {
   "cell_type": "markdown",
   "id": "adcaeb12",
   "metadata": {},
   "source": [
    "*Reads all `.txt` files from a folder, cleans the text, and wraps each as a LangChain `Document`.*\n",
    "\n",
    "---\n",
    "\n",
    "## 4. **Create Embeddings and Build FAISS Index**\n",
    "\n"
   ]
  },
  {
   "cell_type": "code",
   "execution_count": 20,
   "id": "28afd6aa",
   "metadata": {},
   "outputs": [],
   "source": [
    "embedding_model = SentenceTransformerEmbeddings(model_name=\"all-MiniLM-L6-v2\")\n",
    "vectorstore = FAISS.from_documents(documents, embedding_model)\n",
    "vectorstore.save_local(\"faiss_index_ancient_greece_notebook\")"
   ]
  },
  {
   "cell_type": "markdown",
   "id": "c80ecde8",
   "metadata": {},
   "source": [
    "*Converts documents to embeddings and stores them in a FAISS vector database for fast similarity search. Saves the index locally.*\n",
    "\n",
    "---\n",
    "\n",
    "## 5. **Load FAISS Index (for Reuse)**\n",
    "\n"
   ]
  },
  {
   "cell_type": "code",
   "execution_count": 21,
   "id": "38c08a9f",
   "metadata": {},
   "outputs": [],
   "source": [
    "vectorstore = FAISS.load_local(\"faiss_index_ancient_greece\", embedding_model, allow_dangerous_deserialization=True)"
   ]
  },
  {
   "cell_type": "markdown",
   "id": "8bce74a4",
   "metadata": {},
   "source": [
    "*Loads the previously saved FAISS index for querying.*\n",
    "\n",
    "---\n",
    "\n",
    "## 6. **Create a Retriever**\n",
    "\n"
   ]
  },
  {
   "cell_type": "code",
   "execution_count": 22,
   "id": "7f8cc377",
   "metadata": {},
   "outputs": [],
   "source": [
    "retriever = vectorstore.as_retriever()"
   ]
  },
  {
   "cell_type": "markdown",
   "id": "a21be830",
   "metadata": {},
   "source": [
    "*Wraps the vectorstore as a retriever object for searching relevant documents.*\n",
    "\n",
    "---\n",
    "\n",
    "## 7. **Initialize the LLM**\n",
    "\n"
   ]
  },
  {
   "cell_type": "code",
   "execution_count": 23,
   "id": "3dacda24",
   "metadata": {},
   "outputs": [],
   "source": [
    "from langchain_openai import ChatOpenAI\n",
    "llm = ChatOpenAI(model=\"gpt-4o-mini\")"
   ]
  },
  {
   "cell_type": "markdown",
   "id": "28996f4a",
   "metadata": {},
   "source": [
    "*Sets up the OpenAI GPT-4o-mini model for answering questions.*\n",
    "\n",
    "---\n",
    "\n",
    "## 8. **Create a History-Aware Retriever**\n",
    "\n"
   ]
  },
  {
   "cell_type": "code",
   "execution_count": 24,
   "id": "64f7ef9d",
   "metadata": {},
   "outputs": [],
   "source": [
    "from langchain.chains import create_history_aware_retriever\n",
    "from langchain_core.prompts import MessagesPlaceholder\n",
    "from langchain_core.prompts import ChatPromptTemplate, MessagesPlaceholder\n",
    "\n",
    "contextualize_q_prompt = ChatPromptTemplate.from_messages(\n",
    "    [\n",
    "        (\"system\", \"You are a helpful assistant that rewrites follow-up questions into standalone questions using chat history.\"),\n",
    "        MessagesPlaceholder(\"chat_history\"),\n",
    "        (\"human\", \"\"\"Given the above chat history and the latest user question below,\n",
    "reformulate it into a standalone question. Do not answer the question.\n",
    "If it's already standalone, return it as is.\n",
    "\n",
    "Latest user question:\n",
    "{input}\"\"\"),\n",
    "    ]\n",
    ")\n",
    "\n",
    "history_aware_retriever = create_history_aware_retriever(\n",
    "    llm, retriever, contextualize_q_prompt\n",
    ")"
   ]
  },
  {
   "cell_type": "markdown",
   "id": "136056ee",
   "metadata": {},
   "source": [
    "*Uses chat history to reformulate follow-up questions into standalone questions for better retrieval.*\n",
    "\n",
    "---\n",
    "\n",
    "## 9. **Create the RAG Prompt and Chain**\n",
    "\n"
   ]
  },
  {
   "cell_type": "code",
   "execution_count": 25,
   "id": "5e6747e8",
   "metadata": {},
   "outputs": [],
   "source": [
    "from langchain.chains import create_retrieval_chain\n",
    "from langchain.chains.combine_documents import create_stuff_documents_chain\n",
    "\n",
    "prompt = ChatPromptTemplate.from_messages(\n",
    "    [\n",
    "        (\"system\", (\n",
    "            \"\"\"You are an assistant for question-answering tasks.\n",
    "            Answer this question using the provided context only.\n",
    "            If you dont know the answer, just say 'I dont know'\n",
    "            {context}\"\"\"\n",
    "        )),\n",
    "        MessagesPlaceholder(\"chat_history\"),\n",
    "        (\"human\", \"{input}\"),\n",
    "    ]\n",
    ")\n",
    "\n",
    "question_answer_chain = create_stuff_documents_chain(llm, prompt)\n",
    "contextual_rag_chain = create_retrieval_chain(history_aware_retriever, question_answer_chain)"
   ]
  },
  {
   "cell_type": "markdown",
   "id": "b115c2f1",
   "metadata": {},
   "source": [
    "*Defines how the LLM should answer using only retrieved context. Chains the retriever and LLM together.*\n",
    "\n",
    "---\n",
    "\n",
    "## 10. **Enable Conversational Memory**\n",
    "\n"
   ]
  },
  {
   "cell_type": "code",
   "execution_count": 26,
   "id": "83b12588",
   "metadata": {},
   "outputs": [],
   "source": [
    "from langchain_community.chat_message_histories import ChatMessageHistory\n",
    "from langchain_core.chat_history import BaseChatMessageHistory\n",
    "from langchain_core.runnables.history import RunnableWithMessageHistory\n",
    "\n",
    "store = {}\n",
    "\n",
    "def get_session_history(session_id: str) -> BaseChatMessageHistory:\n",
    "    if session_id not in store:\n",
    "        store[session_id] = ChatMessageHistory()\n",
    "    return store[session_id]\n",
    "\n",
    "conversational_rag_chain = RunnableWithMessageHistory(\n",
    "    contextual_rag_chain,\n",
    "    get_session_history,\n",
    "    input_messages_key=\"input\",\n",
    "    history_messages_key=\"chat_history\",\n",
    "    output_messages_key=\"answer\",\n",
    ")"
   ]
  },
  {
   "cell_type": "markdown",
   "id": "e55cb3c0",
   "metadata": {},
   "source": [
    "*Adds chat history tracking for each session, enabling context-aware conversations.*\n",
    "\n",
    "---\n",
    "\n",
    "## 11. **Run the Conversational RAG Chain**\n",
    "\n"
   ]
  },
  {
   "cell_type": "code",
   "execution_count": 27,
   "id": "c05f36bf",
   "metadata": {},
   "outputs": [
    {
     "name": "stdout",
     "output_type": "stream",
     "text": [
      "Socrates was a philosopher who lived in Athens during the 5th century BCE. He is considered the father of Western philosophy and is famous for his method of inquiry known as the Socratic Method, which involved questioning others to stimulate critical thinking and the search for truth. Although he left no written works, his ideas and teachings were passed down through his disciple, Plato. Socrates believed that wisdom came from acknowledging one's own ignorance and engaging in open dialogue. His commitment to truth and ethical conduct ultimately led to his trial and sentence to death by drinking poison hemlock.\n",
      "\n",
      "This answer is based on information from: 18.txt, 31.txt, 32.txt, 33.txt.\n",
      "\n",
      "Retrieved Chunks and Sources:\n",
      "\n",
      "---\n",
      "Chunk:\n",
      "Greek Philosophy: Socrates, Plato, and Aristotle Socrates and the Socratic Method Ancient Greece is widely regarded as the birthplace of Western philosophy, and at the forefront of this philosophical revolution were three influential thinkers: Socrates, Plato, and Aristotle. This chapter delves into their profound contributions to Greek philosophy and their enduring impact on the world of ideas. The first philosopher to be discussed is Socrates, who lived in Athens during the 5th century BCE. Although he left no written works behind, his ideas and teachings were passed down through his disciple, Plato. Socrates is famous for his method of inquiry known as the Socratic Method, which involved questioning others to stimulate critical thinking and the search for truth. He believed that wisdom came from acknowledging one's own ignorance and engaging in open dialogue with others, challenging their beliefs and assumptions. Through the Socratic Method, Socrates aimed to expose contradictions and inconsistencies in people's thoughts, leading them to question their deeply held beliefs. This method was not intended to provide definitive answers, but rather to encourage self reflection and intellectual growth. Socrates believed that the pursuit of knowledge and self awareness was vital for personal and societal improvement. Socrates' commitment to truth and ethical conduct eventually led to his demise. Accused of corrupting the youth and challenging the authority of the gods, he was brought to trial and sentenced to death by drinking a cup of poison hemlock. Despite his tragic end, Socrates' legacy endured through the works of Plato, his most famous student.\n",
      "Source: 31.txt\n",
      "\n",
      "---\n",
      "Chunk:\n",
      "Philosophy in Athens In addition to its democratic achievements, Athens also became the birthplace of philosophy, nurturing some of the greatest thinkers in history. The city's intellectual environment provided fertile ground for the development of new ideas and the exploration of fundamental questions about existence, ethics, and knowledge. Socrates, considered the father of Western philosophy, played a pivotal role in shaping the Athenian philosophical tradition. Through his Socratic method, he encouraged critical thinking and questioning of assumptions, inspiring his students, including Plato and Xenophon, to become influential philosophers in their own right. Plato, one of Socrates' most notable disciples, established the Academy, an institution that became a center for philosophical inquiry. Plato's writings explored a wide range of topics, including political theory, metaphysics, and ethics. His famous work, \"The Republic,\" delved into the ideal state and the nature of justice, leaving a lasting impact on political philosophy. Another prominent figure in Athenian philosophy was Aristotle, a student of Plato. Aristotle's extensive works covered a wide range of subjects, including logic, ethics, biology, and politics. His teachings emphasized the importance of empirical observation and logical reasoning, laying the groundwork for scientific inquiry and influencing Western thought for centuries to come. In conclusion, Athens remains an iconic symbol of democracy and philosophy. Its groundbreaking experiment with democracy and the intellectual contributions of its philosophers continue to shape our understanding of governance and the pursuit of knowledge. The legacy of Athens serves as a reminder of the power of human potential, inspiring us to strive for progress and enlightenment in our own societies.\n",
      "Source: 18.txt\n",
      "\n",
      "---\n",
      "Chunk:\n",
      "Plato and the Theory of Forms Plato, a student of Socrates and one of the most influential philosophers in history, carried forward his mentor's legacy and developed his own philosophical system. Born in Athens around 428 BCE, Plato founded the Academy, an institution that played a crucial role in the development of Greek thought. At the core of Plato's philosophy is the Theory of Forms. According to Plato, the physical world we perceive through our senses is merely a flawed reflection of a higher realm of perfect and unchanging Forms. These Forms, such as Justice, Beauty, and Truth, exist independently of the material world and serve as the ultimate reality. The physical world, with its imperfections and transience, is merely a shadow of these eternal Forms. Plato believed that true knowledge could only be attained through reason and intellectual contemplation of the Forms. He argued that philosophers, who possess a unique capacity for insight, should rule society, as they have a deep understanding of the Forms and can guide others towards a just and harmonious existence. Plato's philosophical ideas extended beyond metaphysics. He explored topics such as ethics, politics, and epistemology, leaving a lasting impact on numerous fields of study. His famous dialogues, including \"The Republic\" and \"The Symposium,\" continue to be studied and debated by scholars and philosophers to this day.\n",
      "Source: 32.txt\n",
      "\n",
      "---\n",
      "Chunk:\n",
      "Aristotle and the Pursuit of Virtue Aristotle, another great thinker of ancient Greece, was born in 384 BCE in Stagira. He became a student of Plato at the Academy, but later developed his own philosophical system that had a profound influence on Western thought. Aristotle's philosophy focused on the empirical study of the natural world and human behavior. He believed that knowledge and understanding were acquired through observation and analysis. Unlike Plato, Aristotle did not believe in a separate realm of Forms. Instead, he emphasized the importance of studying the physical world to comprehend its principles and laws. One of Aristotle's most significant contributions was his theory of virtue ethics. He argued that the ultimate goal of human life is to achieve eudaimonia, often translated as \"flourishing\" or \"well being.\" According to Aristotle, eudaimonia is achieved through the cultivation of virtues, such as courage, wisdom, and justice. Virtue, for Aristotle, is the habit of acting in accordance with reason and moral excellence. Aristotle's works cover a wide range of subjects, including ethics, politics, metaphysics, biology, and logic. His meticulous observations and systematic approach to knowledge laid the groundwork for many scientific disciplines. Aristotle's influence extended far beyond his lifetime, shaping the course of Western philosophy and science for centuries to come. In conclusion, Socrates, Plato, and Aristotle were pivotal figures in ancient Greek philosophy. Socrates' Socratic Method laid the foundation for critical thinking and self examination, while Plato's Theory of Forms explored the nature of reality and knowledge. Aristotle's empirical approach and theory of virtue ethics contributed to our understanding of the physical world and human flourishing. Their collective endeavors continue to shape our understanding of philosophy, ethics, and the pursuit of truth.\n",
      "Source: 33.txt\n",
      "\n",
      "Sources: 18.txt, 31.txt, 32.txt, 33.txt\n"
     ]
    }
   ],
   "source": [
    "response = conversational_rag_chain.invoke(\n",
    "    {\"input\": \"who is socrates\"},\n",
    "    config={\n",
    "        \"configurable\": {\"session_id\": \"abc1235\"}\n",
    "    },\n",
    ")\n",
    "sources = set()\n",
    "if \"context\" in response:\n",
    "    for doc in response[\"context\"]:\n",
    "        if \"source\" in doc.metadata:\n",
    "            sources.add(doc.metadata[\"source\"])\n",
    "citation = \"\"\n",
    "if sources:\n",
    "    citation = f\"\\n\\nThis answer is based on information from: {', '.join(sorted(sources))}.\"\n",
    "print(response[\"answer\"] + citation)\n",
    "\n",
    "# Optionally, still print retrieved chunks and sources for transparency (for debugging or evaluation)\n",
    "if \"context\" in response:\n",
    "    print(\"\\nRetrieved Chunks and Sources:\")\n",
    "    for doc in response[\"context\"]:\n",
    "        print(f\"\\n---\\nChunk:\\n{doc.page_content}\\nSource: {doc.metadata.get('source', 'N/A')}\")\n",
    "    print(\"\\nSources:\", \", \".join(sorted(sources)))\n",
    "else:\n",
    "    print(\"No sources found.\")\n"
   ]
  },
  {
   "cell_type": "markdown",
   "id": "8b360df8",
   "metadata": {},
   "source": [
    "*Asks a question and prints the answer, storing the conversation under a session ID.*\n",
    "\n",
    "---\n",
    "\n",
    "## 12. **Ask a Follow-up Question**\n",
    "\n"
   ]
  },
  {
   "cell_type": "code",
   "execution_count": 28,
   "id": "df3c812f",
   "metadata": {},
   "outputs": [
    {
     "name": "stdout",
     "output_type": "stream",
     "text": [
      "Socrates lived in Athens.\n",
      "\n",
      "This answer is based on information from: 18.txt, 31.txt, 32.txt, 33.txt.\n",
      "\n",
      "Retrieved Chunks and Sources:\n",
      "\n",
      "---\n",
      "Chunk:\n",
      "Greek Philosophy: Socrates, Plato, and Aristotle Socrates and the Socratic Method Ancient Greece is widely regarded as the birthplace of Western philosophy, and at the forefront of this philosophical revolution were three influential thinkers: Socrates, Plato, and Aristotle. This chapter delves into their profound contributions to Greek philosophy and their enduring impact on the world of ideas. The first philosopher to be discussed is Socrates, who lived in Athens during the 5th century BCE. Although he left no written works behind, his ideas and teachings were passed down through his disciple, Plato. Socrates is famous for his method of inquiry known as the Socratic Method, which involved questioning others to stimulate critical thinking and the search for truth. He believed that wisdom came from acknowledging one's own ignorance and engaging in open dialogue with others, challenging their beliefs and assumptions. Through the Socratic Method, Socrates aimed to expose contradictions and inconsistencies in people's thoughts, leading them to question their deeply held beliefs. This method was not intended to provide definitive answers, but rather to encourage self reflection and intellectual growth. Socrates believed that the pursuit of knowledge and self awareness was vital for personal and societal improvement. Socrates' commitment to truth and ethical conduct eventually led to his demise. Accused of corrupting the youth and challenging the authority of the gods, he was brought to trial and sentenced to death by drinking a cup of poison hemlock. Despite his tragic end, Socrates' legacy endured through the works of Plato, his most famous student.\n",
      "Source: 31.txt\n",
      "\n",
      "---\n",
      "Chunk:\n",
      "Philosophy in Athens In addition to its democratic achievements, Athens also became the birthplace of philosophy, nurturing some of the greatest thinkers in history. The city's intellectual environment provided fertile ground for the development of new ideas and the exploration of fundamental questions about existence, ethics, and knowledge. Socrates, considered the father of Western philosophy, played a pivotal role in shaping the Athenian philosophical tradition. Through his Socratic method, he encouraged critical thinking and questioning of assumptions, inspiring his students, including Plato and Xenophon, to become influential philosophers in their own right. Plato, one of Socrates' most notable disciples, established the Academy, an institution that became a center for philosophical inquiry. Plato's writings explored a wide range of topics, including political theory, metaphysics, and ethics. His famous work, \"The Republic,\" delved into the ideal state and the nature of justice, leaving a lasting impact on political philosophy. Another prominent figure in Athenian philosophy was Aristotle, a student of Plato. Aristotle's extensive works covered a wide range of subjects, including logic, ethics, biology, and politics. His teachings emphasized the importance of empirical observation and logical reasoning, laying the groundwork for scientific inquiry and influencing Western thought for centuries to come. In conclusion, Athens remains an iconic symbol of democracy and philosophy. Its groundbreaking experiment with democracy and the intellectual contributions of its philosophers continue to shape our understanding of governance and the pursuit of knowledge. The legacy of Athens serves as a reminder of the power of human potential, inspiring us to strive for progress and enlightenment in our own societies.\n",
      "Source: 18.txt\n",
      "\n",
      "---\n",
      "Chunk:\n",
      "Aristotle and the Pursuit of Virtue Aristotle, another great thinker of ancient Greece, was born in 384 BCE in Stagira. He became a student of Plato at the Academy, but later developed his own philosophical system that had a profound influence on Western thought. Aristotle's philosophy focused on the empirical study of the natural world and human behavior. He believed that knowledge and understanding were acquired through observation and analysis. Unlike Plato, Aristotle did not believe in a separate realm of Forms. Instead, he emphasized the importance of studying the physical world to comprehend its principles and laws. One of Aristotle's most significant contributions was his theory of virtue ethics. He argued that the ultimate goal of human life is to achieve eudaimonia, often translated as \"flourishing\" or \"well being.\" According to Aristotle, eudaimonia is achieved through the cultivation of virtues, such as courage, wisdom, and justice. Virtue, for Aristotle, is the habit of acting in accordance with reason and moral excellence. Aristotle's works cover a wide range of subjects, including ethics, politics, metaphysics, biology, and logic. His meticulous observations and systematic approach to knowledge laid the groundwork for many scientific disciplines. Aristotle's influence extended far beyond his lifetime, shaping the course of Western philosophy and science for centuries to come. In conclusion, Socrates, Plato, and Aristotle were pivotal figures in ancient Greek philosophy. Socrates' Socratic Method laid the foundation for critical thinking and self examination, while Plato's Theory of Forms explored the nature of reality and knowledge. Aristotle's empirical approach and theory of virtue ethics contributed to our understanding of the physical world and human flourishing. Their collective endeavors continue to shape our understanding of philosophy, ethics, and the pursuit of truth.\n",
      "Source: 33.txt\n",
      "\n",
      "---\n",
      "Chunk:\n",
      "Plato and the Theory of Forms Plato, a student of Socrates and one of the most influential philosophers in history, carried forward his mentor's legacy and developed his own philosophical system. Born in Athens around 428 BCE, Plato founded the Academy, an institution that played a crucial role in the development of Greek thought. At the core of Plato's philosophy is the Theory of Forms. According to Plato, the physical world we perceive through our senses is merely a flawed reflection of a higher realm of perfect and unchanging Forms. These Forms, such as Justice, Beauty, and Truth, exist independently of the material world and serve as the ultimate reality. The physical world, with its imperfections and transience, is merely a shadow of these eternal Forms. Plato believed that true knowledge could only be attained through reason and intellectual contemplation of the Forms. He argued that philosophers, who possess a unique capacity for insight, should rule society, as they have a deep understanding of the Forms and can guide others towards a just and harmonious existence. Plato's philosophical ideas extended beyond metaphysics. He explored topics such as ethics, politics, and epistemology, leaving a lasting impact on numerous fields of study. His famous dialogues, including \"The Republic\" and \"The Symposium,\" continue to be studied and debated by scholars and philosophers to this day.\n",
      "Source: 32.txt\n",
      "\n",
      "Sources: 18.txt, 31.txt, 32.txt, 33.txt\n"
     ]
    }
   ],
   "source": [
    "response = conversational_rag_chain.invoke(\n",
    "    {\"input\": \"where did he lived\"},\n",
    "    config={\n",
    "        \"configurable\": {\"session_id\": \"abc1235\"}\n",
    "    },\n",
    ")\n",
    "# print(response[\"answer\"])\n",
    "sources = set()\n",
    "if \"context\" in response:\n",
    "    for doc in response[\"context\"]:\n",
    "        if \"source\" in doc.metadata:\n",
    "            sources.add(doc.metadata[\"source\"])\n",
    "citation = \"\"\n",
    "if sources:\n",
    "    citation = f\"\\n\\nThis answer is based on information from: {', '.join(sorted(sources))}.\"\n",
    "print(response[\"answer\"] + citation)\n",
    "\n",
    "# Optionally, still print retrieved chunks and sources for transparency (for debugging or evaluation)\n",
    "if \"context\" in response:\n",
    "    print(\"\\nRetrieved Chunks and Sources:\")\n",
    "    for doc in response[\"context\"]:\n",
    "        print(f\"\\n---\\nChunk:\\n{doc.page_content}\\nSource: {doc.metadata.get('source', 'N/A')}\")\n",
    "    print(\"\\nSources:\", \", \".join(sorted(sources)))\n",
    "else:\n",
    "    print(\"No sources found.\")"
   ]
  },
  {
   "cell_type": "markdown",
   "id": "d4ed9e32",
   "metadata": {},
   "source": [
    "*Asks a follow-up question. The system uses chat history to understand \"he\" refers to Socrates.*\n",
    "\n",
    "---\n",
    "\n",
    "## **Summary**\n",
    "\n",
    "- **Load and preprocess documents** → **Embed and index with FAISS** → **Set up retriever and LLM** → **Enable conversational memory** → **Ask questions in context**.\n",
    "- This workflow enables a chatbot to answer questions about your dataset, using retrieval-augmented generation and chat history for context.\n",
    "\n",
    "---"
   ]
  },
  {
   "cell_type": "code",
   "execution_count": 17,
   "id": "2c8e4f43",
   "metadata": {},
   "outputs": [],
   "source": [
    "# This function splits documents into smaller chunks using a recursive character-based text splitter.\n",
    "# It allows for a specified chunk size and overlap between chunks.\n",
    "# If you use a text splitter (like RecursiveCharacterTextSplitter), it will automatically copy the metadata (including \"source\") to each chunk.\n",
    "# from langchain.text_splitter import RecursiveCharacterTextSplitter\n",
    "\n",
    "# def split_documents_recursively(documents, chunk_size=1000, chunk_overlap=200):\n",
    "#     splitter = RecursiveCharacterTextSplitter(\n",
    "#         chunk_size=chunk_size,\n",
    "#         chunk_overlap=chunk_overlap,\n",
    "#         separators=[\"\\n\\n\", \"\\n\", \".\", \"!\", \"?\", \" \", \"\"]\n",
    "#     )\n",
    "#     split_docs = splitter.split_documents(documents)\n",
    "#     logger.info(f\"Split into {len(split_docs)} chunks (chunk_size={chunk_size}, overlap={chunk_overlap})\")\n",
    "#     return split_docs"
   ]
  },
  {
   "cell_type": "code",
   "execution_count": 29,
   "id": "97b13458",
   "metadata": {},
   "outputs": [
    {
     "name": "stdout",
     "output_type": "stream",
     "text": [
      "I dont know\n",
      "\n",
      "This answer is based on information from: 18.txt, 31.txt, 33.txt, 60.txt.\n",
      "\n",
      "Retrieved Chunks and Sources:\n",
      "\n",
      "---\n",
      "Chunk:\n",
      "Philosophy in Athens In addition to its democratic achievements, Athens also became the birthplace of philosophy, nurturing some of the greatest thinkers in history. The city's intellectual environment provided fertile ground for the development of new ideas and the exploration of fundamental questions about existence, ethics, and knowledge. Socrates, considered the father of Western philosophy, played a pivotal role in shaping the Athenian philosophical tradition. Through his Socratic method, he encouraged critical thinking and questioning of assumptions, inspiring his students, including Plato and Xenophon, to become influential philosophers in their own right. Plato, one of Socrates' most notable disciples, established the Academy, an institution that became a center for philosophical inquiry. Plato's writings explored a wide range of topics, including political theory, metaphysics, and ethics. His famous work, \"The Republic,\" delved into the ideal state and the nature of justice, leaving a lasting impact on political philosophy. Another prominent figure in Athenian philosophy was Aristotle, a student of Plato. Aristotle's extensive works covered a wide range of subjects, including logic, ethics, biology, and politics. His teachings emphasized the importance of empirical observation and logical reasoning, laying the groundwork for scientific inquiry and influencing Western thought for centuries to come. In conclusion, Athens remains an iconic symbol of democracy and philosophy. Its groundbreaking experiment with democracy and the intellectual contributions of its philosophers continue to shape our understanding of governance and the pursuit of knowledge. The legacy of Athens serves as a reminder of the power of human potential, inspiring us to strive for progress and enlightenment in our own societies.\n",
      "Source: 18.txt\n",
      "\n",
      "---\n",
      "Chunk:\n",
      "Greek Philosophy: Socrates, Plato, and Aristotle Socrates and the Socratic Method Ancient Greece is widely regarded as the birthplace of Western philosophy, and at the forefront of this philosophical revolution were three influential thinkers: Socrates, Plato, and Aristotle. This chapter delves into their profound contributions to Greek philosophy and their enduring impact on the world of ideas. The first philosopher to be discussed is Socrates, who lived in Athens during the 5th century BCE. Although he left no written works behind, his ideas and teachings were passed down through his disciple, Plato. Socrates is famous for his method of inquiry known as the Socratic Method, which involved questioning others to stimulate critical thinking and the search for truth. He believed that wisdom came from acknowledging one's own ignorance and engaging in open dialogue with others, challenging their beliefs and assumptions. Through the Socratic Method, Socrates aimed to expose contradictions and inconsistencies in people's thoughts, leading them to question their deeply held beliefs. This method was not intended to provide definitive answers, but rather to encourage self reflection and intellectual growth. Socrates believed that the pursuit of knowledge and self awareness was vital for personal and societal improvement. Socrates' commitment to truth and ethical conduct eventually led to his demise. Accused of corrupting the youth and challenging the authority of the gods, he was brought to trial and sentenced to death by drinking a cup of poison hemlock. Despite his tragic end, Socrates' legacy endured through the works of Plato, his most famous student.\n",
      "Source: 31.txt\n",
      "\n",
      "---\n",
      "Chunk:\n",
      "Conclusion The legacy of Ancient Greece and its contributions to Western civilization are both profound and far reaching. From political systems and philosophical ideas to scientific achievements and artistic excellence, the ancient Greeks have left an indelible mark on the world. The concepts of democracy, citizenship, and rational inquiry that emerged in Ancient Greece continue to shape modern Western societies. The philosophical ideas of Socrates, Plato, and Aristotle continue to influence Western thought and provide a foundation for understanding the world. The Greeks' advancements in mathematics, astronomy, and medicine have paved the way for scientific progress. Furthermore, their artistic and cultural achievements have set the standards for aesthetics and continue to inspire artists across disciplines. The legacy of Ancient Greece is a testament to the enduring impact of this remarkable ancient civilization on Western civilization as a whole.\n",
      "Source: 60.txt\n",
      "\n",
      "---\n",
      "Chunk:\n",
      "Aristotle and the Pursuit of Virtue Aristotle, another great thinker of ancient Greece, was born in 384 BCE in Stagira. He became a student of Plato at the Academy, but later developed his own philosophical system that had a profound influence on Western thought. Aristotle's philosophy focused on the empirical study of the natural world and human behavior. He believed that knowledge and understanding were acquired through observation and analysis. Unlike Plato, Aristotle did not believe in a separate realm of Forms. Instead, he emphasized the importance of studying the physical world to comprehend its principles and laws. One of Aristotle's most significant contributions was his theory of virtue ethics. He argued that the ultimate goal of human life is to achieve eudaimonia, often translated as \"flourishing\" or \"well being.\" According to Aristotle, eudaimonia is achieved through the cultivation of virtues, such as courage, wisdom, and justice. Virtue, for Aristotle, is the habit of acting in accordance with reason and moral excellence. Aristotle's works cover a wide range of subjects, including ethics, politics, metaphysics, biology, and logic. His meticulous observations and systematic approach to knowledge laid the groundwork for many scientific disciplines. Aristotle's influence extended far beyond his lifetime, shaping the course of Western philosophy and science for centuries to come. In conclusion, Socrates, Plato, and Aristotle were pivotal figures in ancient Greek philosophy. Socrates' Socratic Method laid the foundation for critical thinking and self examination, while Plato's Theory of Forms explored the nature of reality and knowledge. Aristotle's empirical approach and theory of virtue ethics contributed to our understanding of the physical world and human flourishing. Their collective endeavors continue to shape our understanding of philosophy, ethics, and the pursuit of truth.\n",
      "Source: 33.txt\n",
      "\n",
      "Sources: 18.txt, 31.txt, 33.txt, 60.txt\n"
     ]
    }
   ],
   "source": [
    "response = conversational_rag_chain.invoke(\n",
    "    {\"input\": \".?p12#\"},\n",
    "    config={\n",
    "        \"configurable\": {\"session_id\": \"abc1235\"}\n",
    "    },\n",
    ")\n",
    "# print(response[\"answer\"])\n",
    "sources = set()\n",
    "if \"context\" in response:\n",
    "    for doc in response[\"context\"]:\n",
    "        if \"source\" in doc.metadata:\n",
    "            sources.add(doc.metadata[\"source\"])\n",
    "citation = \"\"\n",
    "if sources:\n",
    "    citation = f\"\\n\\nThis answer is based on information from: {', '.join(sorted(sources))}.\"\n",
    "print(response[\"answer\"] + citation)\n",
    "\n",
    "# Optionally, still print retrieved chunks and sources for transparency (for debugging or evaluation)\n",
    "if \"context\" in response:\n",
    "    print(\"\\nRetrieved Chunks and Sources:\")\n",
    "    for doc in response[\"context\"]:\n",
    "        print(f\"\\n---\\nChunk:\\n{doc.page_content}\\nSource: {doc.metadata.get('source', 'N/A')}\")\n",
    "    print(\"\\nSources:\", \", \".join(sorted(sources)))\n",
    "else:\n",
    "    print(\"No sources found.\")"
   ]
  },
  {
   "cell_type": "code",
   "execution_count": null,
   "id": "e9d4dfe7",
   "metadata": {},
   "outputs": [],
   "source": []
  }
 ],
 "metadata": {
  "kernelspec": {
   "display_name": "env",
   "language": "python",
   "name": "python3"
  },
  "language_info": {
   "codemirror_mode": {
    "name": "ipython",
    "version": 3
   },
   "file_extension": ".py",
   "mimetype": "text/x-python",
   "name": "python",
   "nbconvert_exporter": "python",
   "pygments_lexer": "ipython3",
   "version": "3.12.9"
  }
 },
 "nbformat": 4,
 "nbformat_minor": 5
}
